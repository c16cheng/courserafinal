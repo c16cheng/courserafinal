{
 "cells": [
  {
   "cell_type": "markdown",
   "id": "7144496e-05c6-4567-93a5-8ae6f8dd4760",
   "metadata": {},
   "source": [
    "# Data Science Tools and Ecosystem"
   ]
  },
  {
   "cell_type": "markdown",
   "id": "c3dac234-9de1-481c-b7be-0640ced84cca",
   "metadata": {},
   "source": [
    "In this notebook, Data Science Tools and Ecosystem are summarized."
   ]
  },
  {
   "cell_type": "markdown",
   "id": "32b360b9-7af4-450a-be45-369263aa90d7",
   "metadata": {},
   "source": [
    "**Objectives:**\n",
    "\n",
    "- List popular languages for Data Science\n",
    "- How to use Jupyter Notebooks in JupyterLab\n",
    "- How to use RStudio and GitHub"
   ]
  },
  {
   "cell_type": "markdown",
   "id": "a9123124-7d2e-4d87-b35b-78cca493f6ed",
   "metadata": {},
   "source": [
    "Some of the popular languages that Data Scientists use are:\n",
    "\n",
    "1. R\n",
    "2. Python\n",
    "3. C++\n",
    "4. Scala"
   ]
  },
  {
   "cell_type": "markdown",
   "id": "2765b23f-5500-40b8-9b4f-313a635bb645",
   "metadata": {},
   "source": [
    "Some of the commonly used libraries used by Data Scientist include:\n",
    "\n",
    "1. plotly\n",
    "2. matplotlib\n",
    "3. numpy\n",
    "4. scikit-learn"
   ]
  },
  {
   "cell_type": "markdown",
   "id": "3e1181ad-1ee7-46ff-9dab-bc04e5633109",
   "metadata": {},
   "source": [
    "|Data Science Tools|\n",
    "|------|\n",
    "|Python|\n",
    "|Git|\n",
    "|VS Code|"
   ]
  },
  {
   "cell_type": "markdown",
   "id": "b86523ea-016b-4c68-81fc-50cf4fcf4dd7",
   "metadata": {
    "tags": []
   },
   "source": [
    "### Below are a few examples of evaluating arithmetic expressions in Python\n",
    "\n",
    "1+1"
   ]
  },
  {
   "cell_type": "code",
   "execution_count": 1,
   "id": "15c8ec7e-4828-48d2-8dab-65773e6aa434",
   "metadata": {
    "tags": []
   },
   "outputs": [
    {
     "data": {
      "text/plain": [
       "17"
      ]
     },
     "execution_count": 1,
     "metadata": {},
     "output_type": "execute_result"
    }
   ],
   "source": [
    "# This is a simple arithmetic expression to multiply then add integers\n",
    "\n",
    "(3*4)+5"
   ]
  },
  {
   "cell_type": "code",
   "execution_count": 2,
   "id": "bd91a133-b6df-4be3-bf07-8a0a795afffd",
   "metadata": {
    "tags": []
   },
   "outputs": [
    {
     "name": "stdout",
     "output_type": "stream",
     "text": [
      "3.3333333333333335\n"
     ]
    }
   ],
   "source": [
    "# This will convert 200 minutes to hours by dividing by 60\n",
    "\n",
    "def minutes_to_hours(minutes):\n",
    "    return minutes / 60\n",
    "\n",
    "minutes = 200\n",
    "hours = minutes_to_hours(minutes)\n",
    "print(hours)"
   ]
  },
  {
   "cell_type": "markdown",
   "id": "35478747-6276-4398-9960-c9d0e92691da",
   "metadata": {},
   "source": [
    "## Author\n",
    "Connie Fallon\n"
   ]
  },
  {
   "cell_type": "code",
   "execution_count": null,
   "id": "d72fd7e4-f2b1-459d-9283-b9833efcfdf6",
   "metadata": {},
   "outputs": [],
   "source": []
  }
 ],
 "metadata": {
  "kernelspec": {
   "display_name": "Python",
   "language": "python",
   "name": "conda-env-python-py"
  },
  "language_info": {
   "codemirror_mode": {
    "name": "ipython",
    "version": 3
   },
   "file_extension": ".py",
   "mimetype": "text/x-python",
   "name": "python",
   "nbconvert_exporter": "python",
   "pygments_lexer": "ipython3",
   "version": "3.7.12"
  }
 },
 "nbformat": 4,
 "nbformat_minor": 5
}
